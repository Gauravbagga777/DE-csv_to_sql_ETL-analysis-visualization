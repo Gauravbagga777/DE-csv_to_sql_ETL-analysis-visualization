{
 "cells": [
  {
   "cell_type": "markdown",
   "id": "18e06bb2",
   "metadata": {},
   "source": [
    "# Importing modules"
   ]
  },
  {
   "cell_type": "code",
   "execution_count": 1,
   "id": "4eebf938",
   "metadata": {},
   "outputs": [],
   "source": [
    "import mysql.connector\n",
    "import pandas as pd\n",
    "import csv\n",
    "import os\n",
    "import matplotlib.pyplot as plt"
   ]
  },
  {
   "cell_type": "markdown",
   "id": "f8d3c6f1",
   "metadata": {},
   "source": [
    "# Directory path containing csv Files"
   ]
  },
  {
   "cell_type": "code",
   "execution_count": 2,
   "id": "b98da267",
   "metadata": {},
   "outputs": [],
   "source": [
    "os.chdir(r'C:\\Users\\user\\Desktop\\data_for_project')"
   ]
  },
  {
   "cell_type": "code",
   "execution_count": 3,
   "id": "3e24bc7d",
   "metadata": {},
   "outputs": [],
   "source": [
    "# CREDENTIALS\n",
    "myhost = \"localhost\"\n",
    "myuser = \"root\"\n",
    "mypassword = \"123456\"\n",
    "mydatabase = \"Employee\""
   ]
  },
  {
   "cell_type": "markdown",
   "id": "d3d050ee",
   "metadata": {},
   "source": [
    "# ESTABLISHING DATABASE CONNECTION"
   ]
  },
  {
   "cell_type": "code",
   "execution_count": 4,
   "id": "a0514cb6",
   "metadata": {},
   "outputs": [
    {
     "name": "stdout",
     "output_type": "stream",
     "text": [
      "Connection successful...\n"
     ]
    }
   ],
   "source": [
    "try:\n",
    "    conn = mysql.connector.connect(host=myhost, user=myuser, password=mypassword, database=mydatabase)\n",
    "    print(\"Connection successful...\")\n",
    "except:\n",
    "    print(\"Connection failed!\")"
   ]
  },
  {
   "cell_type": "markdown",
   "id": "d39926dd",
   "metadata": {},
   "source": [
    "# CREATING TABLE IF NOT EXIST ALREADY"
   ]
  },
  {
   "cell_type": "code",
   "execution_count": 12,
   "id": "a0b10536",
   "metadata": {},
   "outputs": [
    {
     "name": "stdout",
     "output_type": "stream",
     "text": [
      "Table created successfully!\n"
     ]
    }
   ],
   "source": [
    "try:\n",
    "    cursor = conn.cursor()\n",
    "    cursor.execute('''CREATE TABLE IF NOT EXISTS EmpData (\n",
    "        id integer NOT NULL PRIMARY KEY,\n",
    "        first_name  VARCHAR(255) NOT NULL,\n",
    "        last_name  VARCHAR(255) NOT NULL,\n",
    "        email  VARCHAR(255) NOT NULL,\n",
    "        department  VARCHAR(255) NOT NULL,\n",
    "        phone_number  VARCHAR(50) NOT NULL,\n",
    "        city VARCHAR(255)  NOT NULL ) ''')\n",
    "    print(\"Table created successfully!\")\n",
    "except:\n",
    "    print(\"Table creation failed!\")"
   ]
  },
  {
   "cell_type": "markdown",
   "id": "3e7bdfb9",
   "metadata": {},
   "source": [
    "# INSERTING ROWS IN TABLE"
   ]
  },
  {
   "cell_type": "code",
   "execution_count": 13,
   "id": "1edbe75c",
   "metadata": {},
   "outputs": [
    {
     "name": "stdout",
     "output_type": "stream",
     "text": [
      "MOCK_DATA (1).csv loaded successfully!\n",
      "MOCK_DATA (2).csv loaded successfully!\n",
      "MOCK_DATA (3).csv loaded successfully!\n",
      "MOCK_DATA (4).csv loaded successfully!\n",
      "MOCK_DATA.csv loaded successfully!\n"
     ]
    }
   ],
   "source": [
    "for file in os.listdir():\n",
    "    if file.endswith('.csv'):\n",
    "        with open(file, encoding=\"utf8\") as csv_file:\n",
    "            csv_reader = csv.reader(csv_file, delimiter=',')\n",
    "            header = next(csv_reader)\n",
    "            for row in csv_reader:\n",
    "                cursor.execute('''INSERT INTO EmpData (id, first_name, last_name, email, department, phone_number, city)\n",
    "                                   VALUES (%s, %s, %s, %s, %s, %s, %s)''', row)\n",
    "        conn.commit()\n",
    "        print(f\"{file} loaded successfully!\")"
   ]
  },
  {
   "cell_type": "markdown",
   "id": "ccf77230",
   "metadata": {},
   "source": [
    "# Results"
   ]
  },
  {
   "cell_type": "code",
   "execution_count": 7,
   "id": "75fa1b09",
   "metadata": {},
   "outputs": [
    {
     "name": "stderr",
     "output_type": "stream",
     "text": [
      "C:\\Users\\user\\AppData\\Local\\Temp\\ipykernel_11752\\2925720555.py:1: UserWarning: pandas only supports SQLAlchemy connectable (engine/connection) or database string URI or sqlite3 DBAPI2 connection. Other DBAPI2 objects are not tested. Please consider using SQLAlchemy.\n",
      "  df = pd.read_sql(\"SELECT * FROM empdata ORDER BY id\", conn)\n"
     ]
    }
   ],
   "source": [
    "df = pd.read_sql(\"SELECT * FROM empdata ORDER BY id\", conn)"
   ]
  },
  {
   "cell_type": "code",
   "execution_count": 8,
   "id": "e02dc837",
   "metadata": {},
   "outputs": [
    {
     "data": {
      "text/html": [
       "<div>\n",
       "<style scoped>\n",
       "    .dataframe tbody tr th:only-of-type {\n",
       "        vertical-align: middle;\n",
       "    }\n",
       "\n",
       "    .dataframe tbody tr th {\n",
       "        vertical-align: top;\n",
       "    }\n",
       "\n",
       "    .dataframe thead th {\n",
       "        text-align: right;\n",
       "    }\n",
       "</style>\n",
       "<table border=\"1\" class=\"dataframe\">\n",
       "  <thead>\n",
       "    <tr style=\"text-align: right;\">\n",
       "      <th></th>\n",
       "      <th>id</th>\n",
       "      <th>first_name</th>\n",
       "      <th>last_name</th>\n",
       "      <th>email</th>\n",
       "      <th>department</th>\n",
       "      <th>phone_number</th>\n",
       "      <th>city</th>\n",
       "    </tr>\n",
       "  </thead>\n",
       "  <tbody>\n",
       "    <tr>\n",
       "      <th>0</th>\n",
       "      <td>1</td>\n",
       "      <td>Lorrie</td>\n",
       "      <td>Mackriell</td>\n",
       "      <td>lmackriell0@nationalgeographic.com</td>\n",
       "      <td>Training</td>\n",
       "      <td>819-912-7703</td>\n",
       "      <td>Hamanoichi</td>\n",
       "    </tr>\n",
       "    <tr>\n",
       "      <th>1</th>\n",
       "      <td>2</td>\n",
       "      <td>Bertie</td>\n",
       "      <td>Marson</td>\n",
       "      <td>bmarson1@usatoday.com</td>\n",
       "      <td>Training</td>\n",
       "      <td>476-109-0452</td>\n",
       "      <td>Xinyuan</td>\n",
       "    </tr>\n",
       "    <tr>\n",
       "      <th>2</th>\n",
       "      <td>3</td>\n",
       "      <td>Chev</td>\n",
       "      <td>Atkinson</td>\n",
       "      <td>catkinson2@wikia.com</td>\n",
       "      <td>Product Management</td>\n",
       "      <td>646-993-8104</td>\n",
       "      <td>Devesa</td>\n",
       "    </tr>\n",
       "    <tr>\n",
       "      <th>3</th>\n",
       "      <td>4</td>\n",
       "      <td>Janith</td>\n",
       "      <td>Marston</td>\n",
       "      <td>jmarston3@google.nl</td>\n",
       "      <td>Human Resources</td>\n",
       "      <td>932-744-9396</td>\n",
       "      <td>Fu’an</td>\n",
       "    </tr>\n",
       "    <tr>\n",
       "      <th>4</th>\n",
       "      <td>5</td>\n",
       "      <td>Dorothee</td>\n",
       "      <td>Lill</td>\n",
       "      <td>dlill4@paginegialle.it</td>\n",
       "      <td>Human Resources</td>\n",
       "      <td>920-326-1926</td>\n",
       "      <td>Valinhos</td>\n",
       "    </tr>\n",
       "    <tr>\n",
       "      <th>...</th>\n",
       "      <td>...</td>\n",
       "      <td>...</td>\n",
       "      <td>...</td>\n",
       "      <td>...</td>\n",
       "      <td>...</td>\n",
       "      <td>...</td>\n",
       "      <td>...</td>\n",
       "    </tr>\n",
       "    <tr>\n",
       "      <th>4995</th>\n",
       "      <td>4996</td>\n",
       "      <td>Jo</td>\n",
       "      <td>MacCracken</td>\n",
       "      <td>jmaccrackenrn@seesaa.net</td>\n",
       "      <td>Training</td>\n",
       "      <td>951-787-5542</td>\n",
       "      <td>Vila de Sal Rei</td>\n",
       "    </tr>\n",
       "    <tr>\n",
       "      <th>4996</th>\n",
       "      <td>4997</td>\n",
       "      <td>Silvana</td>\n",
       "      <td>Dalyell</td>\n",
       "      <td>sdalyellro@drupal.org</td>\n",
       "      <td>Support</td>\n",
       "      <td>800-251-0248</td>\n",
       "      <td>Bromma</td>\n",
       "    </tr>\n",
       "    <tr>\n",
       "      <th>4997</th>\n",
       "      <td>4998</td>\n",
       "      <td>Alis</td>\n",
       "      <td>Garrould</td>\n",
       "      <td>agarrouldrp@free.fr</td>\n",
       "      <td>Business Development</td>\n",
       "      <td>974-794-6963</td>\n",
       "      <td>Ajoyani</td>\n",
       "    </tr>\n",
       "    <tr>\n",
       "      <th>4998</th>\n",
       "      <td>4999</td>\n",
       "      <td>Dimitry</td>\n",
       "      <td>Finnis</td>\n",
       "      <td>dfinnisrq@pbs.org</td>\n",
       "      <td>Training</td>\n",
       "      <td>835-115-0563</td>\n",
       "      <td>Krasnyy Profintern</td>\n",
       "    </tr>\n",
       "    <tr>\n",
       "      <th>4999</th>\n",
       "      <td>5000</td>\n",
       "      <td>Elinor</td>\n",
       "      <td>Mara</td>\n",
       "      <td>emararr@youtu.be</td>\n",
       "      <td>Product Management</td>\n",
       "      <td>235-920-0710</td>\n",
       "      <td>Xianshui</td>\n",
       "    </tr>\n",
       "  </tbody>\n",
       "</table>\n",
       "<p>5000 rows × 7 columns</p>\n",
       "</div>"
      ],
      "text/plain": [
       "        id first_name   last_name                               email  \\\n",
       "0        1     Lorrie   Mackriell  lmackriell0@nationalgeographic.com   \n",
       "1        2     Bertie      Marson               bmarson1@usatoday.com   \n",
       "2        3       Chev    Atkinson                catkinson2@wikia.com   \n",
       "3        4     Janith     Marston                 jmarston3@google.nl   \n",
       "4        5   Dorothee        Lill              dlill4@paginegialle.it   \n",
       "...    ...        ...         ...                                 ...   \n",
       "4995  4996         Jo  MacCracken            jmaccrackenrn@seesaa.net   \n",
       "4996  4997    Silvana     Dalyell               sdalyellro@drupal.org   \n",
       "4997  4998       Alis    Garrould                 agarrouldrp@free.fr   \n",
       "4998  4999    Dimitry      Finnis                   dfinnisrq@pbs.org   \n",
       "4999  5000     Elinor        Mara                    emararr@youtu.be   \n",
       "\n",
       "                department  phone_number                city  \n",
       "0                 Training  819-912-7703          Hamanoichi  \n",
       "1                 Training  476-109-0452             Xinyuan  \n",
       "2       Product Management  646-993-8104              Devesa  \n",
       "3          Human Resources  932-744-9396               Fu’an  \n",
       "4          Human Resources  920-326-1926            Valinhos  \n",
       "...                    ...           ...                 ...  \n",
       "4995              Training  951-787-5542     Vila de Sal Rei  \n",
       "4996               Support  800-251-0248              Bromma  \n",
       "4997  Business Development  974-794-6963             Ajoyani  \n",
       "4998              Training  835-115-0563  Krasnyy Profintern  \n",
       "4999    Product Management  235-920-0710            Xianshui  \n",
       "\n",
       "[5000 rows x 7 columns]"
      ]
     },
     "execution_count": 8,
     "metadata": {},
     "output_type": "execute_result"
    }
   ],
   "source": [
    "df"
   ]
  },
  {
   "cell_type": "code",
   "execution_count": 7,
   "id": "4b2a2752",
   "metadata": {},
   "outputs": [
    {
     "name": "stderr",
     "output_type": "stream",
     "text": [
      "C:\\Users\\user\\AppData\\Local\\Temp\\ipykernel_4212\\4180000738.py:2: UserWarning: pandas only supports SQLAlchemy connectable (engine/connection) or database string URI or sqlite3 DBAPI2 connection. Other DBAPI2 objects are not tested. Please consider using SQLAlchemy.\n",
      "  df2 = pd.read_sql(\"select department, count(*) as Total_Employees from empdata group by 1\", conn)\n"
     ]
    }
   ],
   "source": [
    "# Number of employees in each department\n",
    "df2 = pd.read_sql(\"select department, count(*) as Total_Employees from empdata group by 1\", conn)"
   ]
  },
  {
   "cell_type": "code",
   "execution_count": 8,
   "id": "c069fcb9",
   "metadata": {},
   "outputs": [
    {
     "data": {
      "text/html": [
       "<div>\n",
       "<style scoped>\n",
       "    .dataframe tbody tr th:only-of-type {\n",
       "        vertical-align: middle;\n",
       "    }\n",
       "\n",
       "    .dataframe tbody tr th {\n",
       "        vertical-align: top;\n",
       "    }\n",
       "\n",
       "    .dataframe thead th {\n",
       "        text-align: right;\n",
       "    }\n",
       "</style>\n",
       "<table border=\"1\" class=\"dataframe\">\n",
       "  <thead>\n",
       "    <tr style=\"text-align: right;\">\n",
       "      <th></th>\n",
       "      <th>department</th>\n",
       "      <th>Total_Employees</th>\n",
       "    </tr>\n",
       "  </thead>\n",
       "  <tbody>\n",
       "    <tr>\n",
       "      <th>0</th>\n",
       "      <td>Training</td>\n",
       "      <td>392</td>\n",
       "    </tr>\n",
       "    <tr>\n",
       "      <th>1</th>\n",
       "      <td>Product Management</td>\n",
       "      <td>444</td>\n",
       "    </tr>\n",
       "    <tr>\n",
       "      <th>2</th>\n",
       "      <td>Human Resources</td>\n",
       "      <td>421</td>\n",
       "    </tr>\n",
       "    <tr>\n",
       "      <th>3</th>\n",
       "      <td>Marketing</td>\n",
       "      <td>391</td>\n",
       "    </tr>\n",
       "    <tr>\n",
       "      <th>4</th>\n",
       "      <td>Research and Development</td>\n",
       "      <td>445</td>\n",
       "    </tr>\n",
       "    <tr>\n",
       "      <th>5</th>\n",
       "      <td>Services</td>\n",
       "      <td>412</td>\n",
       "    </tr>\n",
       "    <tr>\n",
       "      <th>6</th>\n",
       "      <td>Business Development</td>\n",
       "      <td>429</td>\n",
       "    </tr>\n",
       "    <tr>\n",
       "      <th>7</th>\n",
       "      <td>Engineering</td>\n",
       "      <td>415</td>\n",
       "    </tr>\n",
       "    <tr>\n",
       "      <th>8</th>\n",
       "      <td>Sales</td>\n",
       "      <td>432</td>\n",
       "    </tr>\n",
       "    <tr>\n",
       "      <th>9</th>\n",
       "      <td>Legal</td>\n",
       "      <td>405</td>\n",
       "    </tr>\n",
       "    <tr>\n",
       "      <th>10</th>\n",
       "      <td>Accounting</td>\n",
       "      <td>409</td>\n",
       "    </tr>\n",
       "    <tr>\n",
       "      <th>11</th>\n",
       "      <td>Support</td>\n",
       "      <td>405</td>\n",
       "    </tr>\n",
       "  </tbody>\n",
       "</table>\n",
       "</div>"
      ],
      "text/plain": [
       "                  department  Total_Employees\n",
       "0                   Training              392\n",
       "1         Product Management              444\n",
       "2            Human Resources              421\n",
       "3                  Marketing              391\n",
       "4   Research and Development              445\n",
       "5                   Services              412\n",
       "6       Business Development              429\n",
       "7                Engineering              415\n",
       "8                      Sales              432\n",
       "9                      Legal              405\n",
       "10                Accounting              409\n",
       "11                   Support              405"
      ]
     },
     "execution_count": 8,
     "metadata": {},
     "output_type": "execute_result"
    }
   ],
   "source": [
    "df2"
   ]
  },
  {
   "cell_type": "markdown",
   "id": "e3a09e46",
   "metadata": {},
   "source": [
    "# Pivoting/Transforming table to different department containing names and id of Employees"
   ]
  },
  {
   "cell_type": "code",
   "execution_count": 10,
   "id": "2676438a",
   "metadata": {},
   "outputs": [],
   "source": [
    "query = '''with cte as (\n",
    "select id,case when department = 'Support' then concat(first_name,\" \",\"(\",id,\")\") end as Support,\n",
    "case when department = 'Training' then concat(first_name,\" \",\"(\",id,\")\") end as Training,\n",
    "case when department = 'Business Development' then concat(first_name,\" \",\"(\",id,\")\") end as Business_Development,\n",
    "case when department = 'Services' then concat(first_name,\" \",\"(\",id,\")\") end as Services,\n",
    "case when department = 'Marketing' then concat(first_name,\" \",\"(\",id,\")\") end as Marketing,\n",
    "case when department = 'Product Management' then concat(first_name,\" \",\"(\",id,\")\") end as Product_Management,\n",
    "case when department = 'Human Resources' then concat(first_name,\" \",\"(\",id,\")\") end as Human_resources,\n",
    "case when department = 'Research and Development' then concat(first_name,\" \",\"(\",id,\")\") end as ResearchNDevelopment,\n",
    "case when department = 'Accounting' then concat(first_name,\" \",\"(\",id,\")\") end as Accounting,\n",
    "case when department = 'Legal' then concat(first_name,\" \",\"(\",id,\")\") end as Legal,\n",
    "case when department = 'Engineering' then concat(first_name,\" \",\"(\",id,\")\") end as Engineering,\n",
    "case when department = 'Sales' then concat(first_name,\" \",\"(\",id,\")\") end as Sales\n",
    "from employee.empdata limit 5000\n",
    "),\n",
    "rd as(\n",
    "select ResearchNDevelopment, row_number() over (order by id) as ResearchNDevelopmentrn from cte where ResearchNDevelopment is not null \n",
    "),\n",
    "t as (\n",
    "select Training, row_number() over (order by id) as trainingrn from cte where training is not null ),\n",
    "sp as (\n",
    "select support, row_number() over (order by id) as supportrn from cte where support is not null\n",
    "),\n",
    "bd as (\n",
    "select Business_development, row_number() over (order by id) as Business_developmentrn from cte where Business_development is not null\n",
    "),\n",
    "srv as (\n",
    "select services, row_number() over (order by id) as servicesrn from cte where services is not null\n",
    "),\n",
    "mrkt as (\n",
    "select marketing, row_number() over (order by id) as marketingrn from cte where marketing is not null\n",
    "),\n",
    "pm as (\n",
    "select product_management, row_number() over (order by id) as product_managementrn from cte where product_management is not null\n",
    "),\n",
    "hr as (\n",
    "select human_resources, row_number() over (order by id) as human_resourcesrn from cte where human_resources is not null\n",
    "),\n",
    "acc as (\n",
    "select accounting, row_number() over (order by id) as accountingrn from cte where accounting is not null\n",
    ")\n",
    "\n",
    "\n",
    "\n",
    "select t.training,sp.support,rd.ResearchNDevelopment,bd.business_development,srv.services, mrkt.marketing, pm.product_management,\n",
    "hr.human_resources, acc.accounting from rd join t on ResearchNDevelopmentrn = t.trainingrn\n",
    "join sp on ResearchNDevelopmentrn = sp.supportrn join bd on ResearchNDevelopmentrn = Business_developmentrn\n",
    "join srv on ResearchNDevelopmentrn = servicesrn join mrkt on ResearchNDevelopmentrn = marketingrn\n",
    "join pm on ResearchNDevelopmentrn = product_managementrn join hr on ResearchNDevelopmentrn = human_resourcesrn\n",
    "join acc on ResearchNDevelopmentrn = accountingrn;'''"
   ]
  },
  {
   "cell_type": "markdown",
   "id": "c24d970c",
   "metadata": {},
   "source": [
    "# Final Result/ Transformed Data"
   ]
  },
  {
   "cell_type": "code",
   "execution_count": 11,
   "id": "de142416",
   "metadata": {},
   "outputs": [
    {
     "name": "stderr",
     "output_type": "stream",
     "text": [
      "C:\\Users\\user\\AppData\\Local\\Temp\\ipykernel_4212\\644181127.py:1: UserWarning: pandas only supports SQLAlchemy connectable (engine/connection) or database string URI or sqlite3 DBAPI2 connection. Other DBAPI2 objects are not tested. Please consider using SQLAlchemy.\n",
      "  df3 = pd.read_sql(query, conn)\n"
     ]
    }
   ],
   "source": [
    "df3 = pd.read_sql(query, conn)"
   ]
  },
  {
   "cell_type": "code",
   "execution_count": 12,
   "id": "4ac9e01d",
   "metadata": {},
   "outputs": [
    {
     "data": {
      "text/html": [
       "<div>\n",
       "<style scoped>\n",
       "    .dataframe tbody tr th:only-of-type {\n",
       "        vertical-align: middle;\n",
       "    }\n",
       "\n",
       "    .dataframe tbody tr th {\n",
       "        vertical-align: top;\n",
       "    }\n",
       "\n",
       "    .dataframe thead th {\n",
       "        text-align: right;\n",
       "    }\n",
       "</style>\n",
       "<table border=\"1\" class=\"dataframe\">\n",
       "  <thead>\n",
       "    <tr style=\"text-align: right;\">\n",
       "      <th></th>\n",
       "      <th>training</th>\n",
       "      <th>support</th>\n",
       "      <th>ResearchNDevelopment</th>\n",
       "      <th>business_development</th>\n",
       "      <th>services</th>\n",
       "      <th>marketing</th>\n",
       "      <th>product_management</th>\n",
       "      <th>human_resources</th>\n",
       "      <th>accounting</th>\n",
       "    </tr>\n",
       "  </thead>\n",
       "  <tbody>\n",
       "    <tr>\n",
       "      <th>0</th>\n",
       "      <td>Lorrie (1)</td>\n",
       "      <td>Deina (23)</td>\n",
       "      <td>Farra (8)</td>\n",
       "      <td>Jennee (12)</td>\n",
       "      <td>Lauren (10)</td>\n",
       "      <td>Lavena (6)</td>\n",
       "      <td>Chev (3)</td>\n",
       "      <td>Janith (4)</td>\n",
       "      <td>Davey (18)</td>\n",
       "    </tr>\n",
       "    <tr>\n",
       "      <th>1</th>\n",
       "      <td>Bertie (2)</td>\n",
       "      <td>Rollo (36)</td>\n",
       "      <td>Moss (11)</td>\n",
       "      <td>Dagmar (35)</td>\n",
       "      <td>Harli (22)</td>\n",
       "      <td>Ansley (13)</td>\n",
       "      <td>Aimee (7)</td>\n",
       "      <td>Dorothee (5)</td>\n",
       "      <td>Salvador (34)</td>\n",
       "    </tr>\n",
       "    <tr>\n",
       "      <th>2</th>\n",
       "      <td>Aldous (19)</td>\n",
       "      <td>Dunstan (46)</td>\n",
       "      <td>Jessy (58)</td>\n",
       "      <td>Fleming (49)</td>\n",
       "      <td>Birdie (27)</td>\n",
       "      <td>Northrop (20)</td>\n",
       "      <td>Jacquelynn (9)</td>\n",
       "      <td>Damien (28)</td>\n",
       "      <td>Gayla (40)</td>\n",
       "    </tr>\n",
       "    <tr>\n",
       "      <th>3</th>\n",
       "      <td>Hildagard (33)</td>\n",
       "      <td>Joey (47)</td>\n",
       "      <td>Stanton (64)</td>\n",
       "      <td>Chrissie (62)</td>\n",
       "      <td>William (42)</td>\n",
       "      <td>Saundra (25)</td>\n",
       "      <td>Jsandye (16)</td>\n",
       "      <td>Juan (30)</td>\n",
       "      <td>Ferdie (51)</td>\n",
       "    </tr>\n",
       "    <tr>\n",
       "      <th>4</th>\n",
       "      <td>Sybille (53)</td>\n",
       "      <td>Terrie (54)</td>\n",
       "      <td>Stephan (69)</td>\n",
       "      <td>Jayne (75)</td>\n",
       "      <td>Alisa (45)</td>\n",
       "      <td>Stu (43)</td>\n",
       "      <td>Marylee (71)</td>\n",
       "      <td>Wyatan (32)</td>\n",
       "      <td>Ailis (52)</td>\n",
       "    </tr>\n",
       "    <tr>\n",
       "      <th>...</th>\n",
       "      <td>...</td>\n",
       "      <td>...</td>\n",
       "      <td>...</td>\n",
       "      <td>...</td>\n",
       "      <td>...</td>\n",
       "      <td>...</td>\n",
       "      <td>...</td>\n",
       "      <td>...</td>\n",
       "      <td>...</td>\n",
       "    </tr>\n",
       "    <tr>\n",
       "      <th>386</th>\n",
       "      <td>Kelsey (4943)</td>\n",
       "      <td>Waylan (4722)</td>\n",
       "      <td>Marcelle (4339)</td>\n",
       "      <td>Mickie (4490)</td>\n",
       "      <td>Merissa (4662)</td>\n",
       "      <td>Merrielle (4919)</td>\n",
       "      <td>Elsa (4313)</td>\n",
       "      <td>Guntar (4607)</td>\n",
       "      <td>Hyman (4751)</td>\n",
       "    </tr>\n",
       "    <tr>\n",
       "      <th>387</th>\n",
       "      <td>Isaac (4946)</td>\n",
       "      <td>Nigel (4730)</td>\n",
       "      <td>Jean (4343)</td>\n",
       "      <td>Lesli (4505)</td>\n",
       "      <td>Neil (4673)</td>\n",
       "      <td>Nissy (4925)</td>\n",
       "      <td>Teodoro (4321)</td>\n",
       "      <td>Nealy (4611)</td>\n",
       "      <td>Justinn (4757)</td>\n",
       "    </tr>\n",
       "    <tr>\n",
       "      <th>388</th>\n",
       "      <td>Cecile (4966)</td>\n",
       "      <td>Poul (4766)</td>\n",
       "      <td>Lura (4358)</td>\n",
       "      <td>Benedict (4529)</td>\n",
       "      <td>Clair (4707)</td>\n",
       "      <td>Jillian (4975)</td>\n",
       "      <td>Eada (4333)</td>\n",
       "      <td>Kerrill (4614)</td>\n",
       "      <td>Pen (4759)</td>\n",
       "    </tr>\n",
       "    <tr>\n",
       "      <th>389</th>\n",
       "      <td>Rose (4985)</td>\n",
       "      <td>Natalya (4788)</td>\n",
       "      <td>Frederico (4370)</td>\n",
       "      <td>Kelsy (4535)</td>\n",
       "      <td>Karel (4713)</td>\n",
       "      <td>Elspeth (4988)</td>\n",
       "      <td>Pincus (4355)</td>\n",
       "      <td>Thacher (4617)</td>\n",
       "      <td>Edie (4782)</td>\n",
       "    </tr>\n",
       "    <tr>\n",
       "      <th>390</th>\n",
       "      <td>Jo (4996)</td>\n",
       "      <td>Jillana (4798)</td>\n",
       "      <td>Adrea (4375)</td>\n",
       "      <td>Fergus (4538)</td>\n",
       "      <td>Gay (4728)</td>\n",
       "      <td>Stephenie (4992)</td>\n",
       "      <td>Becki (4356)</td>\n",
       "      <td>Symon (4665)</td>\n",
       "      <td>Mildred (4789)</td>\n",
       "    </tr>\n",
       "  </tbody>\n",
       "</table>\n",
       "<p>391 rows × 9 columns</p>\n",
       "</div>"
      ],
      "text/plain": [
       "           training         support ResearchNDevelopment business_development  \\\n",
       "0        Lorrie (1)      Deina (23)            Farra (8)          Jennee (12)   \n",
       "1        Bertie (2)      Rollo (36)            Moss (11)          Dagmar (35)   \n",
       "2       Aldous (19)    Dunstan (46)           Jessy (58)         Fleming (49)   \n",
       "3    Hildagard (33)       Joey (47)         Stanton (64)        Chrissie (62)   \n",
       "4      Sybille (53)     Terrie (54)         Stephan (69)           Jayne (75)   \n",
       "..              ...             ...                  ...                  ...   \n",
       "386   Kelsey (4943)   Waylan (4722)      Marcelle (4339)        Mickie (4490)   \n",
       "387    Isaac (4946)    Nigel (4730)          Jean (4343)         Lesli (4505)   \n",
       "388   Cecile (4966)     Poul (4766)          Lura (4358)      Benedict (4529)   \n",
       "389     Rose (4985)  Natalya (4788)     Frederico (4370)         Kelsy (4535)   \n",
       "390       Jo (4996)  Jillana (4798)         Adrea (4375)        Fergus (4538)   \n",
       "\n",
       "           services         marketing product_management human_resources  \\\n",
       "0       Lauren (10)        Lavena (6)           Chev (3)      Janith (4)   \n",
       "1        Harli (22)       Ansley (13)          Aimee (7)    Dorothee (5)   \n",
       "2       Birdie (27)     Northrop (20)     Jacquelynn (9)     Damien (28)   \n",
       "3      William (42)      Saundra (25)       Jsandye (16)       Juan (30)   \n",
       "4        Alisa (45)          Stu (43)       Marylee (71)     Wyatan (32)   \n",
       "..              ...               ...                ...             ...   \n",
       "386  Merissa (4662)  Merrielle (4919)        Elsa (4313)   Guntar (4607)   \n",
       "387     Neil (4673)      Nissy (4925)     Teodoro (4321)    Nealy (4611)   \n",
       "388    Clair (4707)    Jillian (4975)        Eada (4333)  Kerrill (4614)   \n",
       "389    Karel (4713)    Elspeth (4988)      Pincus (4355)  Thacher (4617)   \n",
       "390      Gay (4728)  Stephenie (4992)       Becki (4356)    Symon (4665)   \n",
       "\n",
       "         accounting  \n",
       "0        Davey (18)  \n",
       "1     Salvador (34)  \n",
       "2        Gayla (40)  \n",
       "3       Ferdie (51)  \n",
       "4        Ailis (52)  \n",
       "..              ...  \n",
       "386    Hyman (4751)  \n",
       "387  Justinn (4757)  \n",
       "388      Pen (4759)  \n",
       "389     Edie (4782)  \n",
       "390  Mildred (4789)  \n",
       "\n",
       "[391 rows x 9 columns]"
      ]
     },
     "execution_count": 12,
     "metadata": {},
     "output_type": "execute_result"
    }
   ],
   "source": [
    "df3"
   ]
  },
  {
   "cell_type": "code",
   "execution_count": 10,
   "id": "a744ac58",
   "metadata": {},
   "outputs": [
    {
     "name": "stderr",
     "output_type": "stream",
     "text": [
      "C:\\Users\\user\\AppData\\Local\\Temp\\ipykernel_5832\\979053980.py:4: UserWarning: pandas only supports SQLAlchemy connectable (engine/connection) or database string URI or sqlite3 DBAPI2 connection. Other DBAPI2 objects are not tested. Please consider using SQLAlchemy.\n",
      "  df = pd.read_sql(\"SELECT * FROM empdata ORDER BY id\", conn)\n",
      "C:\\Users\\user\\AppData\\Local\\Temp\\ipykernel_5832\\979053980.py:5: UserWarning: pandas only supports SQLAlchemy connectable (engine/connection) or database string URI or sqlite3 DBAPI2 connection. Other DBAPI2 objects are not tested. Please consider using SQLAlchemy.\n",
      "  df2 = pd.read_sql(\"select department, count(*) as Total_Employees from empdata group by 1\", conn)\n"
     ]
    },
    {
     "data": {
      "image/png": "[encoded data removed]",
      "text/plain": [
       "<Figure size 1000x600 with 1 Axes>"
      ]
     },
     "metadata": {},
     "output_type": "display_data"
    }
   ],
   "source": [
    "\n",
    "# load data\n",
    "df = pd.read_sql(\"SELECT * FROM empdata ORDER BY id\", conn)\n",
    "df2 = pd.read_sql(\"select department, count(*) as Total_Employees from empdata group by 1\", conn)\n",
    "\n",
    "# create bar chart\n",
    "fig, ax = plt.subplots(figsize=(10,6))\n",
    "ax.bar(df2['department'], df2['Total_Employees'], width=0.5)  # add width parameter to create a gap of 0.5\n",
    "ax.set_title('Total Employees by Department')\n",
    "ax.set_xlabel('Department')\n",
    "ax.set_ylabel('Total Employees')\n",
    "plt.xticks(rotation=45, ha='right')\n",
    "plt.tight_layout()\n",
    "plt.show()"
   ]
  },
  {
   "cell_type": "code",
   "execution_count": null,
   "id": "1d0834ab",
   "metadata": {},
   "outputs": [],
   "source": []
  },
  {
   "cell_type": "code",
   "execution_count": null,
   "id": "45146b87",
   "metadata": {},
   "outputs": [],
   "source": []
  }
 ],
 "metadata": {
  "kernelspec": {
   "display_name": "Python 3 (ipykernel)",
   "language": "python",
   "name": "python3"
  },
  "language_info": {
   "codemirror_mode": {
    "name": "ipython",
    "version": 3
   },
   "file_extension": ".py",
   "mimetype": "text/x-python",
   "name": "python",
   "nbconvert_exporter": "python",
   "pygments_lexer": "ipython3",
   "version": "3.8.0"
  },
  "vscode": {
   "interpreter": {
    "hash": "de47f5c92c0ee6f12a59a5613ac5feff6aab19ddff207ba0b3964cced08c4ccc"
   }
  }
 },
 "nbformat": 4,
 "nbformat_minor": 5
}
